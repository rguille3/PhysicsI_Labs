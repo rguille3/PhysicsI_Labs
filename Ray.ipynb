{
  "nbformat": 4,
  "nbformat_minor": 0,
  "metadata": {
    "colab": {
      "provenance": [],
      "include_colab_link": true
    },
    "kernelspec": {
      "name": "python3",
      "display_name": "Python 3"
    },
    "language_info": {
      "name": "python"
    }
  },
  "cells": [
    {
      "cell_type": "markdown",
      "metadata": {
        "id": "view-in-github",
        "colab_type": "text"
      },
      "source": [
        "<a href=\"https://colab.research.google.com/github/rguille3/PhysicsI_Labs/blob/main/Ray.ipynb\" target=\"_parent\"><img src=\"https://colab.research.google.com/assets/colab-badge.svg\" alt=\"Open In Colab\"/></a>"
      ]
    },
    {
      "cell_type": "markdown",
      "source": [
        "Lab 3\n",
        "\n",
        "Raul Guillen\n",
        "\n",
        "9 Nov 2024"
      ],
      "metadata": {
        "id": "t0Doe3CBQ3Ci"
      }
    },
    {
      "cell_type": "markdown",
      "source": [
        "#  <font color='Red'> **Import Necessary Modules** </font>"
      ],
      "metadata": {
        "id": "ODKTQJak3iE-"
      }
    },
    {
      "cell_type": "code",
      "source": [
        "import numpy as np\n",
        "import matplotlib.pyplot as plt\n",
        "from numpy import arange, array, zeros\n",
        "from numpy.linalg import norm\n",
        "\n",
        "np.set_printoptions(precision=4, linewidth=200, threshold=2000, suppress=True)\n",
        "\n",
        "π =  np.pi"
      ],
      "metadata": {
        "id": "eG_AnzCN3iy5"
      },
      "execution_count": 568,
      "outputs": []
    },
    {
      "cell_type": "markdown",
      "source": [
        "###  <font color='Green'> Necessary Defintions. </font>"
      ],
      "metadata": {
        "id": "v5m-1sNOQ4k9"
      }
    },
    {
      "cell_type": "code",
      "source": [
        "###\n",
        "def rotation_xy(θ):\n",
        "    \"\"\"\n",
        "    GIVEN: θ (in degrees)\n",
        "    GET: rotation matrix\n",
        "    \"\"\"\n",
        "    θ *= np.pi/180\n",
        "    return np.array([ [np.cos(θ), -np.sin(θ), 0.], [np.sin(θ), np.cos(θ), 0.], [0., 0., 1.]])\n",
        "\n",
        "def projection(basis, f_in):\n",
        "    f_1 = np.dot( basis[0], f_in ) * basis[0]\n",
        "    f_2 = np.dot( basis[1], f_in ) * basis[1]\n",
        "    f_3 = np.dot( basis[2], f_in ) * basis[2]\n",
        "    return [f_1, f_2, f_3]\n",
        "\n",
        "def Ramp(θ, μS, μK, f_in):\n",
        "\n",
        "    basis = (rotation_xy(θ) @ np.eye(3)).T\n",
        "\n",
        "    f_fric, f_normal, f_z = projection(basis, -f_in)\n",
        "\n",
        "    if np.linalg.norm(f_fric) <= np.linalg.norm( μS * f_normal ):\n",
        "        None\n",
        "    if np.linalg.norm(f_fric) > np.linalg.norm( μS * f_normal ):\n",
        "        f_fric = np.linalg.norm(μK * f_normal) * f_fric / np.linalg.norm(f_fric)\n",
        "\n",
        "    return f_normal + f_fric + f_z"
      ],
      "metadata": {
        "id": "i75bV7R5yvpd"
      },
      "execution_count": 569,
      "outputs": []
    },
    {
      "cell_type": "markdown",
      "source": [
        "#  <font color='Red'> **Experiment 1: Familiarization with Definitions.** </font>"
      ],
      "metadata": {
        "id": "piiO7Qo1xXWF"
      }
    },
    {
      "cell_type": "markdown",
      "source": [
        "###  <font color='Red'> The Rotation Matrix, print the rotation matrix for 3 angles of your choosing (note the defintion requires the angle in degrees). </font>"
      ],
      "metadata": {
        "id": "NHH-pCzhxfiq"
      }
    },
    {
      "cell_type": "code",
      "source": [
        "print( rotation_xy(2) )\n",
        "print( rotation_xy(20) )\n",
        "print( rotation_xy(87) )"
      ],
      "metadata": {
        "colab": {
          "base_uri": "https://localhost:8080/"
        },
        "id": "xSGSojYqxxii",
        "outputId": "eb7cdcc2-26f3-48ed-cedf-db77982260ba"
      },
      "execution_count": 570,
      "outputs": [
        {
          "output_type": "stream",
          "name": "stdout",
          "text": [
            "[[ 0.9994 -0.0349  0.    ]\n",
            " [ 0.0349  0.9994  0.    ]\n",
            " [ 0.      0.      1.    ]]\n",
            "[[ 0.9397 -0.342   0.    ]\n",
            " [ 0.342   0.9397  0.    ]\n",
            " [ 0.      0.      1.    ]]\n",
            "[[ 0.0523 -0.9986  0.    ]\n",
            " [ 0.9986  0.0523  0.    ]\n",
            " [ 0.      0.      1.    ]]\n"
          ]
        }
      ]
    },
    {
      "cell_type": "markdown",
      "source": [
        "###  <font color='Red'> Choose a rotation matrix from above, to rotate the usual Cartesian Basis (i.e. (Rotation_Matrix @ np.eye(3)).T ) and print the result. </font>"
      ],
      "metadata": {
        "id": "pnJxjBS-x7Gx"
      }
    },
    {
      "cell_type": "code",
      "source": [
        "basis = (rotation_xy(45) @ np.eye(3)).T\n",
        "print( basis )"
      ],
      "metadata": {
        "colab": {
          "base_uri": "https://localhost:8080/"
        },
        "id": "j05li8Rkx_oI",
        "outputId": "99fb680e-7f5d-4c4f-f6ae-dc7eca5b72bb"
      },
      "execution_count": 571,
      "outputs": [
        {
          "output_type": "stream",
          "name": "stdout",
          "text": [
            "[[ 0.7071  0.7071  0.    ]\n",
            " [-0.7071  0.7071  0.    ]\n",
            " [ 0.      0.      1.    ]]\n"
          ]
        }
      ]
    },
    {
      "cell_type": "markdown",
      "source": [
        "###  <font color='Red'> Define an arbitrary acting force vector (3 component vector). </font>"
      ],
      "metadata": {
        "id": "EDm0IaqgzpF9"
      }
    },
    {
      "cell_type": "code",
      "source": [
        "f_in  = array([0, -9.8 , 0.])\n",
        "print(f_in)"
      ],
      "metadata": {
        "colab": {
          "base_uri": "https://localhost:8080/"
        },
        "id": "W_qbGE77zw3H",
        "outputId": "deea68c4-d1e5-4014-b40c-3d85fc5dbc82"
      },
      "execution_count": 572,
      "outputs": [
        {
          "output_type": "stream",
          "name": "stdout",
          "text": [
            "[ 0.  -9.8  0. ]\n"
          ]
        }
      ]
    },
    {
      "cell_type": "markdown",
      "source": [
        "###  <font color='Red'> Use Newton's 3rd Law to get a Reacting force  </font>"
      ],
      "metadata": {
        "id": "kQpRqiduz7a7"
      }
    },
    {
      "cell_type": "code",
      "source": [
        "f_react = -f_in\n",
        "print(f_react)"
      ],
      "metadata": {
        "colab": {
          "base_uri": "https://localhost:8080/"
        },
        "id": "iJJf9si10Dlv",
        "outputId": "8f0556e7-7f98-42ee-e94e-1a0fd89f4954"
      },
      "execution_count": 573,
      "outputs": [
        {
          "output_type": "stream",
          "name": "stdout",
          "text": [
            "[-0.   9.8 -0. ]\n"
          ]
        }
      ]
    },
    {
      "cell_type": "markdown",
      "source": [
        "###  <font color='Red'> Project an arbitrary force vector, i.e. decompose into 3 vectors, e.g. f_in, on the new basis defined above. </font>"
      ],
      "metadata": {
        "id": "LgL-tHtxyjQX"
      }
    },
    {
      "cell_type": "code",
      "source": [
        "f_fric, f_normal, f_z = projection(basis, f_react)"
      ],
      "metadata": {
        "id": "8AR946mQy0wJ"
      },
      "execution_count": 574,
      "outputs": []
    },
    {
      "cell_type": "markdown",
      "source": [
        "###  <font color='Red'> Filter the frictional-projection. 1st, define the static friction coefficient (μS) and then the kinetic friction coefficient (μK). 2nd, define two if-statements to determine if friction component of the force above should be the static XOR kinetic one. </font>"
      ],
      "metadata": {
        "id": "-Sj4i1qazBEJ"
      }
    },
    {
      "cell_type": "code",
      "source": [
        "μS = 0.2\n",
        "μK = 0.1\n",
        "\n",
        "if norm(f_fric) <= norm( μS * f_normal ): ## f_2\n",
        "    None\n",
        "if norm(f_fric) > norm( μS * f_normal ):\n",
        "    f_2 = norm(μK * f_normal) * f_fric"
      ],
      "metadata": {
        "id": "fGkKdIT0zXm_"
      },
      "execution_count": 575,
      "outputs": []
    },
    {
      "cell_type": "markdown",
      "source": [
        "###  <font color='Red'> Now determine the total force: f_in = -f_out $\\rightarrow$ f_in + f_out = f_net. e.g. in the static limit f_net = 0. Print this net force. </font>"
      ],
      "metadata": {
        "id": "tvUZ5ZCA06hS"
      }
    },
    {
      "cell_type": "code",
      "source": [
        "net_force = f_fric + f_normal + f_z + f_in\n",
        "\n",
        "print(\"Net Force is %4.3f N\" %(norm(net_force) ) )"
      ],
      "metadata": {
        "colab": {
          "base_uri": "https://localhost:8080/"
        },
        "id": "wOMeZyRu06tn",
        "outputId": "6be4ecd3-fbe7-4fa8-c169-d9e99c1199dc"
      },
      "execution_count": 576,
      "outputs": [
        {
          "output_type": "stream",
          "name": "stdout",
          "text": [
            "Net Force is 0.000 N\n"
          ]
        }
      ]
    },
    {
      "cell_type": "markdown",
      "source": [
        "###  <font color='Red'> Now use: Ramp(θ, μS, μK, f_in), to get the reactive force (f_out), with your choice of angle (θ), static friction coefficient (μS), kinetic friction coefficient (μK), and the f_in you defined above.\n",
        "\n",
        "### Add this to f_in, do the results match from above? </font>"
      ],
      "metadata": {
        "id": "l6EDJkQo1q5v"
      }
    },
    {
      "cell_type": "markdown",
      "source": [
        "At first glance, by adjusting the coefficient values and ramp angles, it becomes clear that up to a certain point determined by the reactive force of static friction, the net force remains zero. As the angle increases, the gravitational force has a greater effect on the object, because as the sine function approaches 90 degrees, gravitational force will get closer to the gravitational constant.\n",
        "Once the gravitational force acting on the object on the ramp exceeds the maximum limit of static friction, the object begins to accelerate, and the static friction coefficient transitions to the kinetic friction coefficient."
      ],
      "metadata": {
        "id": "Pd-LDD8u76Jt"
      }
    },
    {
      "cell_type": "code",
      "source": [
        "print(\"Net Force is %4.3f N\" %( norm( Ramp(45, μS, μK, f_in) + f_in ) ) )"
      ],
      "metadata": {
        "colab": {
          "base_uri": "https://localhost:8080/"
        },
        "id": "d6hi8Khu1-78",
        "outputId": "73ec356b-83e7-422b-bded-b058bea4284f"
      },
      "execution_count": 577,
      "outputs": [
        {
          "output_type": "stream",
          "name": "stdout",
          "text": [
            "Net Force is 6.237 N\n"
          ]
        }
      ]
    },
    {
      "cell_type": "markdown",
      "source": [
        "#  <font color='Red'> **Experiment 2: Varying Angle.** </font>"
      ],
      "metadata": {
        "id": "hwDP78Scmd_w"
      }
    },
    {
      "cell_type": "markdown",
      "source": [
        "###  <font color='Red'> Define the range of angles you wish to test (using arange). </font>"
      ],
      "metadata": {
        "id": "IZ-ebOTP1hhJ"
      }
    },
    {
      "cell_type": "code",
      "source": [
        "θs = arange(0,90,0.1) ## range of angles you wish to test"
      ],
      "metadata": {
        "id": "KaQyZZW7699F"
      },
      "execution_count": 578,
      "outputs": []
    },
    {
      "cell_type": "markdown",
      "source": [
        "###  <font color='Red'> Define a for-loop over these values. And get the force-magnitude for every value in the angle array defined above. Fix the value of the static friction, set kinetic friction to 0. Free feel to use the Ramp method. </font>"
      ],
      "metadata": {
        "id": "ZZpj8AvY2kaH"
      }
    },
    {
      "cell_type": "code",
      "source": [
        "f  = zeros(len(θs)) ## create an empty array to fill-in later of length θs\n",
        "for i in range(len(θs)): ## for-loop over all configurations, e.g. array θs\n",
        "    f[i] = norm( Ramp(θs[i], 1.0, 0.0, f_in) + f_in ) ## compute the net-force given the i-th θs configuration"
      ],
      "metadata": {
        "id": "5f5e6qWr2jDZ"
      },
      "execution_count": 579,
      "outputs": []
    },
    {
      "cell_type": "markdown",
      "source": [
        "###  <font color='Red'> Plot your Results, make sure to leave a caption describing the physics of the graph. </font>"
      ],
      "metadata": {
        "id": "wMS5-GRG2_2F"
      }
    },
    {
      "cell_type": "code",
      "source": [
        "plt.plot(θs, f)\n",
        "plt.xlabel(\"Angle (degrees)\")\n",
        "plt.ylabel(\"Acceleration (m/s/s)\")\n",
        "plt.show()"
      ],
      "metadata": {
        "colab": {
          "base_uri": "https://localhost:8080/",
          "height": 449
        },
        "id": "9hsaJ23t3HI0",
        "outputId": "66649814-270e-4962-f991-9f42eb4a965e"
      },
      "execution_count": 580,
      "outputs": [
        {
          "output_type": "display_data",
          "data": {
            "text/plain": [
              "<Figure size 640x480 with 1 Axes>"
            ],
            "image/png": "[encoded data removed]"
          },
          "metadata": {}
        }
      ]
    },
    {
      "cell_type": "markdown",
      "source": [
        "The graph above shows an object on a ramp as its slope or angle increases.\n",
        "\n",
        "n this experiment, the x-axis represents the angle in degrees, which is the independent variable. The y-axis is used to plot the corresponding acceleration values.\n",
        "\n",
        "The static friction coefficient is 1, and gravity is the only active force acting on the object. For simplicity, the kinetic friction coefficient is 0. The graph indicates that after approximately 45 degrees, the gravitational force eventually overcomes the static friction force, causing a significant increase in acceleration until it reaches the gravitational constant.\n",
        "\n",
        "Once the gravitational force acting on the object on the ramp exceeds the maximum limit of static friction, the object begins to accelerate to the limit of 9.8 m/s/s(g).\n"
      ],
      "metadata": {
        "id": "f-qSQGfG6Goq"
      }
    },
    {
      "cell_type": "markdown",
      "source": [
        "#  <font color='Red'> **Experiment 3: Varying Static Friction Coefficient.** </font>"
      ],
      "metadata": {
        "id": "Za3Wu910wRuE"
      }
    },
    {
      "cell_type": "markdown",
      "source": [
        "###  <font color='Red'> Define the range of static-friction-coefficients you wish to test (using arange). </font>"
      ],
      "metadata": {
        "id": "FDwl9oGj3ezN"
      }
    },
    {
      "cell_type": "code",
      "source": [
        "μs = arange(0,5,0.1) ## range of static friction coefficients you wish to test"
      ],
      "metadata": {
        "id": "ZZ7yeJZT3is6"
      },
      "execution_count": 581,
      "outputs": []
    },
    {
      "cell_type": "markdown",
      "source": [
        "###  <font color='Red'> Define a for-loop over these values. And get the force-magnitude for every value in the static-friction-coefficient array defined above. Fix the value of the angle, and set kinetic friction to 0. Free feel to use the Ramp method. </font>"
      ],
      "metadata": {
        "id": "W0oXCQNx3mVu"
      }
    },
    {
      "cell_type": "code",
      "source": [
        "f  = zeros(len(μs)) ## create an empty array to fill-in later of length μs\n",
        "for i in range(len(μs)): ## for-loop over all configurations, e.g. array μs\n",
        "    f[i] = norm( Ramp(45, μs[i], 0.0, f_in) + f_in ) ## compute the net-force given the i-th μs configuration"
      ],
      "metadata": {
        "id": "pE16JEdD_U1o"
      },
      "execution_count": 582,
      "outputs": []
    },
    {
      "cell_type": "markdown",
      "source": [
        "###  <font color='Red'> Plot your Results, make sure to leave a caption describing the physics of the graph. </font>"
      ],
      "metadata": {
        "id": "XDUlA93g3vxg"
      }
    },
    {
      "cell_type": "code",
      "source": [
        "plt.plot(μs, f)\n",
        "plt.xlabel(\"Static Friction Coefficient\")\n",
        "plt.ylabel(\"Acceleration (m/s/s)\")\n",
        "plt.show()"
      ],
      "metadata": {
        "colab": {
          "base_uri": "https://localhost:8080/",
          "height": 449
        },
        "id": "DU-hVoF43uoj",
        "outputId": "7aaea4c4-7d4b-4178-bfd9-1f29a4e6e3e7"
      },
      "execution_count": 583,
      "outputs": [
        {
          "output_type": "display_data",
          "data": {
            "text/plain": [
              "<Figure size 640x480 with 1 Axes>"
            ],
            "image/png": "[encoded data removed]"
          },
          "metadata": {}
        }
      ]
    },
    {
      "cell_type": "markdown",
      "source": [
        "The graph above illustrates how acceleration changes as we increase the static friction coefficient on a 45-degree ramp. For each point on the x-axis, a gravitational force is applied to an item initially at rest on the ramp, and we plot its immediate acceleration after the net force acts on it. Here, only gravitational force drives the object downward, while friction opposes this motion as a reactive force. There is no kinetic friction, meaning frictional force only acts when the object is stationary, not when it's moving.\n",
        "\n",
        "When the static friction coefficient reaches 1.0, the object stops accelerating when the force is applied because the friction force has reached a point where it fully opposes the gravitational pull. A higher static friction coefficient increases the maximum frictional force, as the frictional force depends on both this coefficient and the normal force.\n",
        "\n",
        "One last note: the reason the acceleration is not 9.8 m/s² as the object is not in freefall. So to account for the magnitude of the gravitational force we need to account for the angle of the ramp, F_g*sin(45), when getting the net force.\n"
      ],
      "metadata": {
        "id": "gwHDGEOh6D9Z"
      }
    },
    {
      "cell_type": "markdown",
      "source": [
        "#  <font color='Red'> **Experiment 4: Kinetic Friction and Dynamics.** </font>\n",
        "\n",
        "###  <font color='Red'> Lets consider kinematics as discussed before, using the familiar Velocity-Verlet algorithm. </font>"
      ],
      "metadata": {
        "id": "nwpCIOMQ1XBR"
      }
    },
    {
      "cell_type": "markdown",
      "source": [
        "###  <font color='Red'> Define the following 9 variables (similar to lab 2):\n",
        "*   Time Resolution (dt)\n",
        "*   Time-array\n",
        "*   Mass of your particle\n",
        "*   Initial Position (x0)\n",
        "*   Initial Velocity set to zeros (v0 = np.zeros(3))\n",
        "*   Initial Acceleration set to zeros (v0 = np.zeros(3))\n",
        "*   Angle (θ)\n",
        "*   Static Friction Coefficient (μs)\n",
        "*   Static Friction Coefficient (μk)\n",
        " </font>"
      ],
      "metadata": {
        "id": "fIlCZ3Bw4JNq"
      }
    },
    {
      "cell_type": "code",
      "source": [
        "θ  = 60   ## initial angle\n",
        "μs = 1.30 ## static-friction coefficient\n",
        "μk = 1.8  ## kinetic-friction coefficient\n",
        "\n",
        "dt = 0.1 ## s  : detector/sim time resolution\n",
        "mass = 2 ## kg : mass of particle\n",
        "g = 10   ## m/s/s\n",
        "x0 = array([0.,  10. , 0.]) ## m  : initial position\n",
        "v0 = array([ 0.,  0. , 0.]) ## m/s: initial velocity\n",
        "a0 = array([ 0., -1., 0.]) * mass * g ## m/s/s: initial acceleration\n",
        "\n",
        "time = arange(0, 3, dt) ## s : time array (array containing all moments in time)"
      ],
      "metadata": {
        "id": "tV1MJKZR45fj"
      },
      "execution_count": 584,
      "outputs": []
    },
    {
      "cell_type": "markdown",
      "source": [
        "###  <font color='Red'> Define an acting force on this particle acting for all times, e.g. the force of gravity (it can be any force), i.e. f_t a 2D array, the same shape of the force defined in lab 2.  </font>"
      ],
      "metadata": {
        "id": "WpVramLp4ld0"
      }
    },
    {
      "cell_type": "code",
      "source": [
        "f_t_act = zeros((len(time), 3 )) ## empty force-trajectory array\n",
        "f_t_act[:,1] = -1. * mass * g  ## fill-in all 1-axis ('y'-axis) entries to -mg."
      ],
      "metadata": {
        "id": "OaRGAfd844Ti"
      },
      "execution_count": 585,
      "outputs": []
    },
    {
      "cell_type": "markdown",
      "source": [
        "###  <font color='Red'> Define your Velocity Verlet, but with the new Force acting-reacting force term! To get the trajectory (for position, velocity, and acceleration)  </font>"
      ],
      "metadata": {
        "id": "H7AXQYtP5rKs"
      }
    },
    {
      "cell_type": "code",
      "source": [
        "x_t = zeros((len(time), 3)) ## initialize position-trajectory (position vectors for all times, i.e. len(T))\n",
        "v_t = zeros((len(time), 3)) ## initialize velocity-trajectory (velocity vectors for all times)\n",
        "a_t = zeros((len(time), 3)) ## initialize acceleration-trajectory (acceleration vectors for all times)\n",
        "\n",
        "x_t[0] = x0 ## initialize the 0th position-trajectory entry to the initial-position\n",
        "v_t[0] = v0 ## initialize the 0th velocity-trajectory entry to the initial-velocity\n",
        "a_t[0] = (Ramp(θ, μs, μk, f_t_act[0]) + f_t_act[0] )/mass\n",
        "\n",
        "for t in range(1,len(time)): ## iteratively run algorithm for all entries (for all time, excluding time 0)\n",
        "    x_t[t] = x_t[t-1] + v_t[t-1] * dt + a_t[t-1] * dt*dt/2 ## Velocity-Verlet Step 1 : find new position from old data\n",
        "    a_t[t] = (Ramp(θ, μs, μk, f_t_act[t]) + f_t_act[t] )/mass ## compute new acceleration from the net-force\n",
        "    v_t[t] = v_t[t-1] + (a_t[t-1] + a_t[t]) * dt/2 ## compute new velocity"
      ],
      "metadata": {
        "id": "WtJsLt0r5yHi"
      },
      "execution_count": 586,
      "outputs": []
    },
    {
      "cell_type": "markdown",
      "source": [
        "###  <font color='Red'> Plot your Results, make sure to leave a caption describing the physics of the graph. </font>"
      ],
      "metadata": {
        "id": "6V34e3DM55WR"
      }
    },
    {
      "cell_type": "code",
      "source": [
        "fig, (ax1, ax2, ax3) = plt.subplots(1, 3)\n",
        "fig.suptitle('Experiment 4')\n",
        "fig.subplots_adjust(hspace=0.01, wspace=0.25, right=2)\n",
        "\n",
        "ax1.scatter(time, x_t[:,1])\n",
        "ax1.set_title(\"Position\")\n",
        "ax1.set(xlabel='time (s)', ylabel='Position (m)')\n",
        "\n",
        "#ax2.scatter(time, v_t[:,1])\n",
        "ax2.scatter(time, norm(v_t, axis=1))\n",
        "ax2.set_title(\"Velocity\")\n",
        "ax2.set(xlabel='time (s)', ylabel='Velocity (m/s)')\n",
        "\n",
        "ax3.scatter(time, a_t[:,1], label=\"Acceleration\")\n",
        "ax3.legend(loc=\"upper right\")\n",
        "ax3.set_title(\"Acceleration\")\n",
        "ax3.set(xlabel='time (s)', ylabel='Acceleration (m/s/s)')\n",
        "\n",
        "fig.show()"
      ],
      "metadata": {
        "colab": {
          "base_uri": "https://localhost:8080/",
          "height": 497
        },
        "id": "KsYjE9ko55dQ",
        "outputId": "f175b829-0a51-4505-e356-67e46b4cdbd8"
      },
      "execution_count": 587,
      "outputs": [
        {
          "output_type": "display_data",
          "data": {
            "text/plain": [
              "<Figure size 640x480 with 3 Axes>"
            ],
            "image/png": "[encoded data removed]"
          },
          "metadata": {}
        }
      ]
    },
    {
      "cell_type": "markdown",
      "source": [],
      "metadata": {
        "id": "nnEsMQi_hpgn"
      }
    },
    {
      "cell_type": "markdown",
      "source": [],
      "metadata": {
        "id": "rW4I7dNH6DJ8"
      }
    },
    {
      "cell_type": "markdown",
      "source": [
        "#  <font color='Red'> **Conclusion:** </font>\n",
        "\n",
        "###  <font color='Red'> Write your Conclusion here, you may type in word-processor, only to copy-n-paste it here. This .ipynb file is your lab report. </font>\n",
        "\n",
        "###  <font color='Red'> Demonstrate you understand this lab, this is the most imporant part of the lab report worth half of the total points. </font>\n"
      ],
      "metadata": {
        "id": "wT8I5Mzbuh57"
      }
    },
    {
      "cell_type": "markdown",
      "source": [],
      "metadata": {
        "id": "Eq10Xab463PY"
      }
    },
    {
      "cell_type": "markdown",
      "source": [
        "###  <font color='Red'> If your surface is completely parallel to the gravity-vector $\\mathbf{g}$ (i.e. angle is 90 degrees from horizontal surface), can static friction support the object on this surface? </font>"
      ],
      "metadata": {
        "id": "O7GUBWGNcSry"
      }
    },
    {
      "cell_type": "markdown",
      "source": [
        "If the surface is fully parallel to the gravity vector (i.e., at a 90-degree angle from the horizontal), static friction cannot support the object. At this angle, the surface is vertical, so there is no normal force to produce static friction. With gravity acting directly downward and no normal force present, static friction cannot oppose gravity. As a result, the object won’t stay in place and will fall freely due to gravity."
      ],
      "metadata": {
        "id": "YlfSVXNm8jLT"
      }
    },
    {
      "cell_type": "markdown",
      "source": [
        "###  <font color='Red'> Is there an angle, such that no motion occurs with a static friction coefficient of 0.0? </font>"
      ],
      "metadata": {
        "id": "6zB8fqzX8kly"
      }
    },
    {
      "cell_type": "markdown",
      "source": [
        "No, if the static friction coefficient is 0.0, there isn’t any angle where the object would stay in place. Static friction is what prevents an object from moving initially. With a coefficient of 0.0, there’s no static friction to resist any force, so even the slightest angle will cause the object to move under the influence of gravity.\n",
        "\n",
        "This is assuming an angle off the perpendicular to the direction of gravity. With a static friction coefficient of 0.0, there would be no friction to resist any force, and even the smallest angle would cause the object to move due to gravity."
      ],
      "metadata": {
        "id": "ZINhIKzE7DEf"
      }
    }
  ]
}