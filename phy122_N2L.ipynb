{
  "nbformat": 4,
  "nbformat_minor": 0,
  "metadata": {
    "colab": {
      "provenance": [],
      "include_colab_link": true
    },
    "kernelspec": {
      "name": "python3",
      "display_name": "Python 3"
    },
    "language_info": {
      "name": "python"
    }
  },
  "cells": [
    {
      "cell_type": "markdown",
      "metadata": {
        "id": "view-in-github",
        "colab_type": "text"
      },
      "source": [
        "<a href=\"https://colab.research.google.com/github/rguille3/PhysicsI_Labs/blob/main/phy122_N2L.ipynb\" target=\"_parent\"><img src=\"https://colab.research.google.com/assets/colab-badge.svg\" alt=\"Open In Colab\"/></a>"
      ]
    },
    {
      "cell_type": "markdown",
      "source": [
        "Title-of-Work\n",
        "\n",
        "Your Name\n",
        "\n",
        "Date"
      ],
      "metadata": {
        "id": "l6iIvPZLUkbb"
      }
    },
    {
      "cell_type": "markdown",
      "source": [
        "#  <font color='Red'> **Import Necessary Modules** </font>"
      ],
      "metadata": {
        "id": "dDA0txt_KhEq"
      }
    },
    {
      "cell_type": "code",
      "source": [
        "import numpy as np\n",
        "import matplotlib.pyplot as plt\n",
        "from numpy import arange, sqrt, array, zeros\n",
        "from numpy.linalg import norm\n",
        "\n",
        "π = np.pi\n",
        "\n",
        "def d(X):\n",
        "    return np.gradient(X, axis=0)"
      ],
      "metadata": {
        "id": "Ac_qX-LwUh9U"
      },
      "execution_count": null,
      "outputs": []
    },
    {
      "cell_type": "markdown",
      "source": [
        "###  <font color='Red'> Before we start lets define the times in which all our experiments will take place. </font>\n",
        "\n",
        "###  <font color='Red'> Define a time-increment (Δt), initial (t0), and a final (tf) time for your experiment. And with it a time_array. </font>"
      ],
      "metadata": {
        "id": "hC1oex657K7o"
      }
    },
    {
      "cell_type": "code",
      "source": [
        "dt = 0.1  ## s (detector time resolution, time-step)\n",
        "t0 = 0.0  ## s (initial experiment time)\n",
        "tf = 10.  ## s (final   experiment time)\n",
        "\n",
        "T  = arange(t0, tf, dt)\n",
        "\n",
        "print(T)\n",
        "print(\"we have \" + str(len(T)) + \" time points\")"
      ],
      "metadata": {
        "id": "B2jcaI6FUm-N",
        "colab": {
          "base_uri": "https://localhost:8080/"
        },
        "outputId": "d7faa72c-138a-4aff-ff2f-86ddcd4b46cd"
      },
      "execution_count": null,
      "outputs": [
        {
          "output_type": "stream",
          "name": "stdout",
          "text": [
            "[0.  0.1 0.2 0.3 0.4 0.5 0.6 0.7 0.8 0.9 1.  1.1 1.2 1.3 1.4 1.5 1.6 1.7\n",
            " 1.8 1.9 2.  2.1 2.2 2.3 2.4 2.5 2.6 2.7 2.8 2.9 3.  3.1 3.2 3.3 3.4 3.5\n",
            " 3.6 3.7 3.8 3.9 4.  4.1 4.2 4.3 4.4 4.5 4.6 4.7 4.8 4.9 5.  5.1 5.2 5.3\n",
            " 5.4 5.5 5.6 5.7 5.8 5.9 6.  6.1 6.2 6.3 6.4 6.5 6.6 6.7 6.8 6.9 7.  7.1\n",
            " 7.2 7.3 7.4 7.5 7.6 7.7 7.8 7.9 8.  8.1 8.2 8.3 8.4 8.5 8.6 8.7 8.8 8.9\n",
            " 9.  9.1 9.2 9.3 9.4 9.5 9.6 9.7 9.8 9.9]\n",
            "we have 100 time points\n"
          ]
        }
      ]
    },
    {
      "cell_type": "markdown",
      "source": [
        "#   <font color='Red'> **Experiment I: Gravity Free-Fall** </font>"
      ],
      "metadata": {
        "id": "Lt9H8Xp6Ku1o"
      }
    },
    {
      "cell_type": "markdown",
      "source": [
        "##   <font color='Red'> To begin lets start with by defining an initial position, initial velocity, and mass. </font>"
      ],
      "metadata": {
        "id": "tCM04tvtWYFf"
      }
    },
    {
      "cell_type": "code",
      "source": [
        "x_0  = array([0., 0., 0.]) ## m : initial position vector/array\n",
        "v_0  = array([0., 0., 0.]) ## m/s : initial velocity vector/array\n",
        "m    =  10.00   ## kg : mass of your particle\n",
        "g    = -9.81    ## m/s/s : surface-gravity"
      ],
      "metadata": {
        "id": "Tiap5DaYUqq_"
      },
      "execution_count": null,
      "outputs": []
    },
    {
      "cell_type": "markdown",
      "source": [
        "##   <font color='Red'> Now lets define our force as a function of time, f_t . </font>"
      ],
      "metadata": {
        "id": "GYiGgmQ57Rvo"
      }
    },
    {
      "cell_type": "code",
      "source": [
        "f_gravity      = zeros( (len(T), 3) ) ## initialize an empty (i.e. zero-filled) 'force-trajectory' array\n",
        "f_gravity[:,0] = m * g ## fill-in all entries of axis-0, i.e. the x-axis, for all, hence \":\" time-points"
      ],
      "metadata": {
        "id": "yptqucSvVpMB"
      },
      "execution_count": null,
      "outputs": []
    },
    {
      "cell_type": "markdown",
      "source": [
        "##   <font color='Red'> Define a for-loop to Velocity-Verlet integrate the motion to obtain a x_t, v_t, and a_t. </font>"
      ],
      "metadata": {
        "id": "Pnn_hwlS7TYG"
      }
    },
    {
      "cell_type": "code",
      "source": [
        "R_tx = zeros((len(T), 3)) ## initialize position-trajectory (position vectors for all times, i.e. len(T))\n",
        "V_tx = zeros((len(T), 3)) ## initialize velocity-trajectory (velocity vectors for all times)\n",
        "A_tx = zeros((len(T), 3)) ## initialize acceleration-trajectory (acceleration vectors for all times)\n",
        "\n",
        "R_tx[0] = x_0 ## initialize the 0th position-trajectory entry to the initial-position\n",
        "V_tx[0] = v_0 ## initialize the 0th velocity-trajectory entry to the initial-velocity\n",
        "A_tx[0] = f_gravity[0] / m ## initialize the 0th acceleration-trajectory entry according to Newton's 2nd Law\n",
        "for t in range(1, len(T)): ## iteratively run algorithm for all entries (for all time, excluding time 0)\n",
        "  R_tx[t] = R_tx[t-1] + V_tx[t-1] * dt + 0.5 * A_tx[t-1] * dt*dt ## Velocity-Verlet Step 1 : find new position from old data\n",
        "  A_tx[t] = f_gravity[t-1] / m ## determine the t-th acceleration entry according to Newton's 2nd Law of the t-th force/mass\n",
        "  V_tx[t] = V_tx[t-1] + 0.5 * ( A_tx[t-1] + A_tx[t] ) * dt ## Velocity-Verlet Step 3 : find new velociy from old data & new accleration"
      ],
      "metadata": {
        "id": "uc2izrOlWjwJ"
      },
      "execution_count": null,
      "outputs": []
    },
    {
      "cell_type": "markdown",
      "source": [
        "###   <font color='Red'> Take a time-derivative of x_t to obtain dxdt_t. </font>\n",
        "\n",
        "###   <font color='Red'> Take a time-derivative of v_t to obtain dvdt_t. </font>"
      ],
      "metadata": {
        "id": "NcD7ypM393ui"
      }
    },
    {
      "cell_type": "code",
      "source": [
        "dRdt_tx = d(R_tx)/dt ## take numerical-time-derivative of the aforementioned position-trajectory\n",
        "dVdt_tx = d(V_tx)/dt ## take numerical-time-derivative of the aforementioned velocity-trajectory"
      ],
      "metadata": {
        "id": "pp9caFz9935y"
      },
      "execution_count": null,
      "outputs": []
    },
    {
      "cell_type": "markdown",
      "source": [
        "###   <font color='Red'> Make 3 plots of with: x_t, \\{v_t, dxdt_t\\}, and \\{ a_t, dv/dt_t, & f_t/mass\\} in matplotlib, all as a function of time. Make sure to include all LABELS!. </font>"
      ],
      "metadata": {
        "id": "DpI40ed-7Sn-"
      }
    },
    {
      "cell_type": "code",
      "source": [
        "fig, (ax1, ax2, ax3) = plt.subplots(1, 3)\n",
        "fig.suptitle('Experiment I')\n",
        "fig.subplots_adjust(hspace=0.01, wspace=0.25, right=2)\n",
        "\n",
        "ax1.scatter(T, R_tx[:,0], label = \"Position\")\n",
        "ax1.set_title(\"Position\")\n",
        "ax1.set(xlabel='time (s)', ylabel='Position (m)')\n",
        "\n",
        "ax2.scatter(T, V_tx[:,0])\n",
        "ax2.set_title(\"Velocity\")\n",
        "ax2.set(xlabel='time (s)', ylabel='Velocity (m/s)')\n",
        "\n",
        "ax3.scatter(T, A_tx[:,0], label=\"Acceleration\")\n",
        "ax3.scatter(T, f_gravity[:,0]/m, s=0.5, label=\"Force/Mass\")\n",
        "ax3.legend(loc=\"upper right\")\n",
        "ax3.set_title(\"Acceleration\")\n",
        "ax3.set(xlabel='time (s)', ylabel='Acceleration (m/s/s)')\n",
        "\n",
        "fig.show()"
      ],
      "metadata": {
        "colab": {
          "base_uri": "https://localhost:8080/",
          "height": 308
        },
        "id": "8AehYoqXW9-T",
        "outputId": "f655c76f-e5f9-4f57-abb2-c2a407d4adfd"
      },
      "execution_count": null,
      "outputs": [
        {
          "output_type": "display_data",
          "data": {
            "text/plain": [
              "<Figure size 432x288 with 3 Axes>"
            ],
            "image/png": "[encoded data removed]"
          },
          "metadata": {
            "needs_background": "light"
          }
        }
      ]
    },
    {
      "cell_type": "markdown",
      "source": [
        "###   <font color='Red'> Let's replot these graphs but for the magnitude of the vectors. </font>"
      ],
      "metadata": {
        "id": "FgSmYW0e7VUz"
      }
    },
    {
      "cell_type": "code",
      "source": [
        "fig, (ax1, ax2, ax3) = plt.subplots(1, 3)\n",
        "fig.suptitle('Experiment I')\n",
        "fig.subplots_adjust(hspace=0.01, wspace=0.25, right=2)\n",
        "\n",
        "ax1.scatter(T, norm(R_tx, axis=1))\n",
        "ax1.set_title(\"Distance\")\n",
        "ax1.set(xlabel='time (s)', ylabel='Distance (m)')\n",
        "\n",
        "ax2.scatter(T, norm(V_tx, axis=1))\n",
        "ax2.set_title(\"Speed\")\n",
        "ax2.set(xlabel='time (s)', ylabel='Speed (m/s)')\n",
        "\n",
        "ax3.scatter(T, norm(A_tx, axis=1), label=\"|Acceleration|\")\n",
        "ax3.scatter(T, norm(f_gravity, axis=1)/m, s=0.5, label=\"|Force|/Mass\")\n",
        "ax3.legend(loc=\"upper right\")\n",
        "ax3.set_title(\"|Acceleration|\")\n",
        "ax3.set(xlabel='time (s)', ylabel='|Acceleration| (m/s/s)')\n",
        "\n",
        "fig.show()"
      ],
      "metadata": {
        "colab": {
          "base_uri": "https://localhost:8080/",
          "height": 308
        },
        "id": "vb6EiILCXG_y",
        "outputId": "746d4253-ebd9-4942-a561-6ca4cf223ee9"
      },
      "execution_count": null,
      "outputs": [
        {
          "output_type": "display_data",
          "data": {
            "text/plain": [
              "<Figure size 432x288 with 3 Axes>"
            ],
            "image/png": "[encoded data removed]"
          },
          "metadata": {
            "needs_background": "light"
          }
        }
      ]
    },
    {
      "cell_type": "markdown",
      "source": [
        "#   <font color='Red'> **Experiment II: Forces on a Cart I** </font>\n",
        "\n",
        "###  <font color='Red'> To begin lets start with by defining an initial position & velocity, and mass. </font>"
      ],
      "metadata": {
        "id": "bqaP8opzZRCN"
      }
    },
    {
      "cell_type": "code",
      "source": [
        "x_0  = array([1., 0., 0.]) ## m : initial position vector/array\n",
        "v_0  = array([5., 0., 0.]) ## m/s : initial velocity vector/array\n",
        "m    = 5.0 ## kg : mass of your particle"
      ],
      "metadata": {
        "id": "O20O-sDKZPqc"
      },
      "execution_count": null,
      "outputs": []
    },
    {
      "cell_type": "markdown",
      "source": [
        "###  <font color='Red'> Define a force as a function of time, with a bump function. Plot the result in time. </font>"
      ],
      "metadata": {
        "id": "8PayyotO7XCL"
      }
    },
    {
      "cell_type": "code",
      "source": [
        "F_tx          = zeros( (len(T), 3) ) ## initialize an empty (ie zero-filled) 'force-trajectory' array\n",
        "F_tx[10:50,:] = 5*array([1.,0.,0.])  ## take entries 10-through-50 and fill-in with given vector/array\n",
        "\n",
        "### plot 0-axis force\n",
        "plt.scatter(T, F_tx[:,0], label=\"Force\")\n",
        "plt.legend(loc=\"upper right\")\n",
        "plt.title(\"force 0-axis\")\n",
        "plt.show()"
      ],
      "metadata": {
        "colab": {
          "base_uri": "https://localhost:8080/",
          "height": 281
        },
        "id": "I5XfTBf2ZXIR",
        "outputId": "6262bdb9-a3b3-4b09-c395-18a221ff8905"
      },
      "execution_count": null,
      "outputs": [
        {
          "output_type": "display_data",
          "data": {
            "text/plain": [
              "<Figure size 432x288 with 1 Axes>"
            ],
            "image/png": "[encoded data removed]"
          },
          "metadata": {
            "needs_background": "light"
          }
        }
      ]
    },
    {
      "cell_type": "markdown",
      "source": [
        "###  <font color='Red'> Define a for-loop to Velocity-Verlet integrate the motion to obtain a x_t, v_t, and a_t. </font>"
      ],
      "metadata": {
        "id": "akP3b6Yv7YOb"
      }
    },
    {
      "cell_type": "code",
      "source": [
        "R_tx = zeros((len(T), 3)) ## initialize position-trajectory (position vectors for all times, i.e. len(T))\n",
        "V_tx = zeros((len(T), 3)) ## initialize velocity-trajectory (velocity vectors for all times)\n",
        "A_tx = zeros((len(T), 3)) ## initialize acceleration-trajectory (acceleration vectors for all times)\n",
        "\n",
        "R_tx[0] = x_0 ## initialize the 0th position-trajectory entry to the initial-position\n",
        "V_tx[0] = v_0 ## initialize the 0th velocity-trajectory entry to the initial-velocity\n",
        "A_tx[0] = F_tx[0] / m ## initialize the 0th acceleration-trajectory entry according to Newton's 2nd Law\n",
        "for t in range(1, len(T)): ## iteratively run algorithm for all entries (for all time, excluding time 0)\n",
        "  R_tx[t] = R_tx[t-1] + V_tx[t-1] * dt + 0.5 * A_tx[t-1] * dt*dt ## Velocity-Verlet Step 1 : find new position from old data\n",
        "  A_tx[t] = F_tx[t-1] / m ## determine the t-th acceleration entry according to Newton's 2nd Law of the t-th force/mass\n",
        "  V_tx[t] = V_tx[t-1] + 0.5 * ( A_tx[t-1] + A_tx[t] ) * dt ## Velocity-Verlet Step 3 : find new velociy from old data & new accleration"
      ],
      "metadata": {
        "id": "TuVZ4fheZYd1"
      },
      "execution_count": null,
      "outputs": []
    },
    {
      "cell_type": "markdown",
      "source": [
        "###  <font color='Red'> Take a time-derivative of x_t to obtain dxdt_t. </font>\n",
        "\n",
        "###  <font color='Red'> Take a time-derivative of v_t to obtain dvdt_t. </font>\n"
      ],
      "metadata": {
        "id": "tBtXgiHd7ZZR"
      }
    },
    {
      "cell_type": "code",
      "source": [
        "dRdt_tx = d(R_tx)/dt ## take numerical-time-derivative of the aforementioned position-trajectory\n",
        "dVdt_tx = d(V_tx)/dt ## take numerical-time-derivative of the aforementioned velocity-trajectory"
      ],
      "metadata": {
        "id": "E4lEt98GZacU"
      },
      "execution_count": null,
      "outputs": []
    },
    {
      "cell_type": "markdown",
      "source": [
        "###  <font color='Red'> Make 3 plots of with: x_t, \\{v_t, dxdt_t\\}, and \\{ a_t, dv/dt_t, and f_t/mass\\} in matplotlib, all as a function of time. Make sure to include all LABELS!. </font>\n"
      ],
      "metadata": {
        "id": "BReV4yUu7ZxT"
      }
    },
    {
      "cell_type": "code",
      "source": [
        "fig, (ax1, ax2, ax3) = plt.subplots(1, 3)\n",
        "fig.suptitle('Experiment I')\n",
        "fig.subplots_adjust(hspace=0.01, wspace=0.25, right=2)\n",
        "\n",
        "ax1.scatter(T, norm(R_tx, axis=1))\n",
        "ax1.set_title(\"Distance\")\n",
        "ax1.set(xlabel='time (s)', ylabel='Distance (m)')\n",
        "\n",
        "ax2.scatter(T, norm(V_tx, axis=1))\n",
        "ax2.set_title(\"Speed\")\n",
        "ax2.set(xlabel='time (s)', ylabel='Speed (m/s)')\n",
        "\n",
        "ax3.scatter(T, norm(A_tx, axis=1), label=\"|Acceleration|\")\n",
        "ax3.scatter(T, norm(F_tx, axis=1)/m, s=0.8, label=\"|Force|/Mass\")\n",
        "ax3.legend(loc=\"upper right\")\n",
        "ax3.set_title(\"|Acceleration|\")\n",
        "ax3.set(xlabel='time (s)', ylabel='|Acceleration| (m/s/s)')\n",
        "\n",
        "fig.show()"
      ],
      "metadata": {
        "colab": {
          "base_uri": "https://localhost:8080/",
          "height": 308
        },
        "id": "EZ1RA-MeZbo0",
        "outputId": "9fc12d51-8d72-4174-ae5c-727a2f29211d"
      },
      "execution_count": null,
      "outputs": [
        {
          "output_type": "display_data",
          "data": {
            "text/plain": [
              "<Figure size 432x288 with 3 Axes>"
            ],
            "image/png": "[encoded data removed]"
          },
          "metadata": {
            "needs_background": "light"
          }
        }
      ]
    },
    {
      "cell_type": "markdown",
      "source": [
        "#   <font color='Red'> **Experiment III: Forces on a Cart II** </font>\n",
        "\n",
        "###   <font color='Red'> To begin lets start with by defining an initial mass, position, & velocity. </font>"
      ],
      "metadata": {
        "id": "Xk574ag1aW4y"
      }
    },
    {
      "cell_type": "code",
      "source": [
        "x_0 = array([10., 0., 0.]) ## m : initial position vector/array\n",
        "v_0 = array([ 1., 0., 0.]) ## m/s : initial velocity vector/array\n",
        "m   = 5.0 ## kg : mass of your particle"
      ],
      "metadata": {
        "id": "PBUONJ6QaYCX"
      },
      "execution_count": null,
      "outputs": []
    },
    {
      "cell_type": "markdown",
      "source": [
        "###   <font color='Red'> Define a time-increment (Δt), initial (t0), and a final (tf) time for your experiment. And with it a time_array. </font>"
      ],
      "metadata": {
        "id": "9i0hgYYg7a5r"
      }
    },
    {
      "cell_type": "code",
      "source": [
        "dt = 0.01  ## s (detector time resolution, time-step)\n",
        "t0 = 0.00  ## s (initial experiment time)\n",
        "tf = 10.0  ## s (final   experiment time)\n",
        "\n",
        "T  = arange(t0, tf, dt) ## make time-array\n",
        "\n",
        "print(\"we have \" + str(len(T)) + \" time points\")"
      ],
      "metadata": {
        "id": "KCy2u0rLaqxT",
        "colab": {
          "base_uri": "https://localhost:8080/"
        },
        "outputId": "6f03bde3-eb76-4561-e43d-472ccc854ec2"
      },
      "execution_count": null,
      "outputs": [
        {
          "output_type": "stream",
          "name": "stdout",
          "text": [
            "we have 1000 time points\n"
          ]
        }
      ]
    },
    {
      "cell_type": "markdown",
      "source": [
        "###   <font color='Red'> Define a force as a function of time, with a bump function. Plot the result in time. </font>"
      ],
      "metadata": {
        "id": "uQzyuOSj7bXr"
      }
    },
    {
      "cell_type": "code",
      "source": [
        "F_tx = zeros( (len(T), 3) ) ## initialize an empty (ie zero-filled) 'force-trajectory' array\n",
        "F_tx[10:500]  =  5*array([1.,0.,0.]) ## take entries 10-through-500 and fill-in with given vector/array\n",
        "F_tx[120:300] = -3*array([1.,0.,0.]) ## take entries 120-through-300 and fill-in with given vector/array\n",
        "\n",
        "### plot force-trajectory on 0-axis\n",
        "plt.scatter(T, F_tx[:,0], s=0.5, label=\"Force\")\n",
        "plt.legend(loc=\"upper right\")\n",
        "plt.title(\"force\")\n",
        "plt.show()"
      ],
      "metadata": {
        "colab": {
          "base_uri": "https://localhost:8080/",
          "height": 281
        },
        "id": "VuSAJ1W6aZsB",
        "outputId": "e9cbecab-a108-4796-958b-c97786c2d0f1"
      },
      "execution_count": null,
      "outputs": [
        {
          "output_type": "display_data",
          "data": {
            "text/plain": [
              "<Figure size 432x288 with 1 Axes>"
            ],
            "image/png": "[encoded data removed]"
          },
          "metadata": {
            "needs_background": "light"
          }
        }
      ]
    },
    {
      "cell_type": "markdown",
      "source": [
        "###   <font color='Red'> Define a for-loop to Velocity-Verlet integrate the motion to obtain a x_t, v_t, and a_t. </font>"
      ],
      "metadata": {
        "id": "N36sLVMX7qNO"
      }
    },
    {
      "cell_type": "code",
      "source": [
        "R_tx = zeros((len(T), 3)) ## initialize position-trajectory (position vectors for all times, i.e. len(T))\n",
        "V_tx = zeros((len(T), 3)) ## initialize velocity-trajectory (velocity vectors for all times)\n",
        "A_tx = zeros((len(T), 3)) ## initialize acceleration-trajectory (acceleration vectors for all times)\n",
        "\n",
        "R_tx[0] = x_0 ## initialize the 0th position-trajectory entry to the initial-position\n",
        "V_tx[0] = v_0 ## initialize the 0th velocity-trajectory entry to the initial-velocity\n",
        "A_tx[0] = F_tx[0] / m ## initialize the 0th acceleration-trajectory entry according to Newton's 2nd Law\n",
        "for t in range(1, len(T)): ## iteratively run algorithm for all entries (for all time, excluding time 0)\n",
        "  R_tx[t] = R_tx[t-1] + V_tx[t-1] * dt + 0.5 * A_tx[t-1] * dt*dt ## Velocity-Verlet Step 1 : find new position from old data\n",
        "  A_tx[t] = F_tx[t-1] / m ## determine the t-th acceleration entry according to Newton's 2nd Law of the t-th force/mass\n",
        "  V_tx[t] = V_tx[t-1] + 0.5 * ( A_tx[t-1] + A_tx[t] ) * dt ## Velocity-Verlet Step 3 : find new velociy from old data & new accleration"
      ],
      "metadata": {
        "id": "kvOH7sXGaaoY"
      },
      "execution_count": null,
      "outputs": []
    },
    {
      "cell_type": "markdown",
      "source": [
        "###   <font color='Red'> Take a time-derivative of x_t to obtain dxdt_t. </font>\n",
        "\n",
        "###   <font color='Red'> Take a time-derivative of v_t to obtain dvdt_t. </font>\n"
      ],
      "metadata": {
        "id": "e-cwrNBl7q1X"
      }
    },
    {
      "cell_type": "code",
      "source": [
        "dRdt_tx = d(R_tx)/dt ## take numerical-time-derivative of the aforementioned position-trajectory\n",
        "dVdt_tx = d(V_tx)/dt ## take numerical-time-derivative of the aforementioned velocity-trajectory"
      ],
      "metadata": {
        "id": "4a3o61dTaxUO"
      },
      "execution_count": null,
      "outputs": []
    },
    {
      "cell_type": "markdown",
      "source": [
        "###   <font color='Red'> Make 3 plots of with: x_t, \\{v_t, dxdt_t\\}, and \\{ a_t, dvdt_t, and f_t/mass\\} in matplotlib, all as a function of time. Make sure to include all LABELS!. </font>"
      ],
      "metadata": {
        "id": "9YdHushL7rgE"
      }
    },
    {
      "cell_type": "code",
      "source": [
        "fig, (ax1, ax2, ax3) = plt.subplots(1, 3)\n",
        "fig.suptitle('Experiment I')\n",
        "fig.subplots_adjust(hspace=0.01, wspace=0.25, right=2)\n",
        "\n",
        "ax1.scatter(T, R_tx[:,0])\n",
        "ax1.set_title(\"Position\")\n",
        "ax1.set(xlabel='time (s)', ylabel='Position (m)')\n",
        "\n",
        "ax2.scatter(T, V_tx[:,0])\n",
        "ax2.scatter(T, dRdt_tx[:,0], s=0.5)\n",
        "ax2.set_title(\"Velocity\")\n",
        "ax2.set(xlabel='time (s)', ylabel='Velocity (m/s)')\n",
        "\n",
        "ax3.scatter(T, A_tx[:,0], label=\"Acceleration\")\n",
        "ax3.scatter(T, dVdt_tx[:,0], s=0.75, label=\"dv/dt\")\n",
        "ax3.scatter(T, F_tx[:,0]/m, s=0.5, label=\"Force\")\n",
        "ax3.legend(loc=\"upper right\")\n",
        "ax3.set_title(\"Acceleration\")\n",
        "ax3.set(xlabel='time (s)', ylabel='Acceleration (m/s/s)')\n",
        "\n",
        "fig.show()"
      ],
      "metadata": {
        "colab": {
          "base_uri": "https://localhost:8080/",
          "height": 308
        },
        "id": "5HESitz4axl4",
        "outputId": "f03e8bc1-f815-4f55-8df6-45e4308052c0"
      },
      "execution_count": null,
      "outputs": [
        {
          "output_type": "display_data",
          "data": {
            "text/plain": [
              "<Figure size 432x288 with 3 Axes>"
            ],
            "image/png": "[encoded data removed]"
          },
          "metadata": {
            "needs_background": "light"
          }
        }
      ]
    },
    {
      "cell_type": "markdown",
      "source": [
        "###   <font color='Red'> Write your Conclusion here, you may type in word-processor, only to copy-n-paste it here. This .ipynb file is your lab report. </font>\n",
        "\n",
        "###   <font color='Red'> Demostrate you understand this lab, this is the most imporant part of the lab report worth half of the total points. </font>"
      ],
      "metadata": {
        "id": "XSGyLcvu3U77"
      }
    },
    {
      "cell_type": "markdown",
      "source": [],
      "metadata": {
        "id": "LJBL5oyZhPvx"
      }
    },
    {
      "cell_type": "markdown",
      "source": [
        "###   <font color='Red'> Is the Force Proportional to the Acceleration? </font>\n",
        "\n",
        "####   <font color='Red'> Answer while referencing your simulations. </font>"
      ],
      "metadata": {
        "id": "56TuhJLGhQM1"
      }
    },
    {
      "cell_type": "markdown",
      "source": [],
      "metadata": {
        "id": "iytb-KjDhWRl"
      }
    },
    {
      "cell_type": "markdown",
      "source": [
        "###   <font color='Red'> Do objects with different masses fall at the same rate? </font>\n",
        "\n",
        "####   <font color='Red'> That is neglecting air-resistance and in the same environment. Answer while referencing your simulations. </font>"
      ],
      "metadata": {
        "id": "Mgkfda0yhWzi"
      }
    },
    {
      "cell_type": "markdown",
      "source": [],
      "metadata": {
        "id": "JVNikd0NhXxX"
      }
    }
  ]
}