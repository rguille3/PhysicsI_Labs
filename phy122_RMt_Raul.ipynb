{
  "nbformat": 4,
  "nbformat_minor": 0,
  "metadata": {
    "colab": {
      "name": "phy122_RMt.ipynb",
      "provenance": [],
      "collapsed_sections": [
        "CZJ9inuumGfS",
        "Pk9ELXX6UEN2",
        "-VD4zN8OWfze",
        "Gi5OnGDuWys_",
        "k4jeA9q2UfH1",
        "GD1Pxyq6ZK8F",
        "-pIVk4UIaOwx",
        "J0L8orcyZYeV",
        "2P09jGnKbYXa",
        "lbQ5Fi2ibkgh",
        "wYk7vr6uUt4t"
      ],
      "include_colab_link": true
    },
    "kernelspec": {
      "name": "python3",
      "display_name": "Python 3"
    },
    "language_info": {
      "name": "python"
    }
  },
  "cells": [
    {
      "cell_type": "markdown",
      "metadata": {
        "id": "view-in-github",
        "colab_type": "text"
      },
      "source": [
        "<a href=\"https://colab.research.google.com/github/rguille3/PhysicsI_Labs/blob/main/phy122_RMt_Raul.ipynb\" target=\"_parent\"><img src=\"https://colab.research.google.com/assets/colab-badge.svg\" alt=\"Open In Colab\"/></a>"
      ]
    },
    {
      "cell_type": "markdown",
      "source": [
        "Title of Work\n",
        "\n",
        "Name\n",
        "\n",
        "Date"
      ],
      "metadata": {
        "id": "ktbMd1V1U2FG"
      }
    },
    {
      "cell_type": "markdown",
      "source": [
        "#   <font color='Green'> **Setup** </font>"
      ],
      "metadata": {
        "id": "CZJ9inuumGfS"
      }
    },
    {
      "cell_type": "code",
      "execution_count": 121,
      "metadata": {
        "id": "TWlI_-aaNKz3"
      },
      "outputs": [],
      "source": [
        "import numpy as np\n",
        "import matplotlib.pyplot as plt\n",
        "from numpy.linalg import norm\n",
        "from numpy.random import normal as random_normal\n",
        "from numpy import arange, sort, searchsorted, exp, sqrt, zeros, ones, array, sin, cos\n",
        "from numpy import sum as Σ\n",
        "\n",
        "np.set_printoptions(precision=4, linewidth=200, threshold=2000, suppress=True)\n",
        "\n",
        "π = np.pi\n",
        "\n",
        "def d(X):\n",
        "    return np.gradient(X, axis=0)\n",
        "\n",
        "def VelocityVerletRot(T, x0=np.array([1.,0.,0.]), v0=np.zeros(3), mass=1., xcenter=np.zeros(3)):\n",
        "    Δt = T[1] - T[0]\n",
        "\n",
        "    x_t = np.zeros((len(T),3))\n",
        "    v_t = np.zeros((len(T),3))\n",
        "    f_t = np.zeros((len(T),3))\n",
        "\n",
        "    x_t[0] = x0\n",
        "    v_t[0] = v0\n",
        "    f_t[0] = -np.dot( v_t[0], v_t[0]) / (np.linalg.norm(x_t[0])**2) * ( x_t[0] - xcenter )\n",
        "    a_told = np.zeros(3)\n",
        "    for t in range(len(T)-1):\n",
        "        x_t[t+1] = x_t[t] + v_t[t] * Δt + 0.5 * a_told * (Δt*Δt)\n",
        "\n",
        "        a_tnew = -np.dot( v_t[t], v_t[t]) / (np.linalg.norm(x_t[t])**2) * ( x_t[t] - xcenter )\n",
        "        f_t[t+1] = mass* a_tnew\n",
        "\n",
        "        v_t[t+1]  = v_t[t] + 0.5 * (a_told + a_tnew) * Δt\n",
        "        a_told    = a_tnew\n",
        "\n",
        "    return x_t, v_t, f_t"
      ]
    },
    {
      "cell_type": "markdown",
      "source": [
        "## <font color='Green'> **example** </font>"
      ],
      "metadata": {
        "id": "JSmtjjCKjk3q"
      }
    },
    {
      "cell_type": "code",
      "source": [
        "t  = arange(0, 12.5, 0.05) ## time-array (collection of all time-points measured by detector)\n",
        "x0 = array([7.1234,0.,0.]) ## start solely on the 0-axis\n",
        "v0 = array([0.,3.4567,0.]) ## initial-velocity (needed for rotational motion) on 1-axis\n",
        "\n",
        "x_t, v_t, f_t = VelocityVerletRot(t, x0=x0, v0=v0) ## using my method for rotational-motion (defined above)\n",
        "\n",
        "plt.scatter(t, x_t[:,0]) ## 0-axis plot\n",
        "plt.scatter(t, x_t[:,1]) ## 1-axis plot\n",
        "plt.scatter(t, x_t[:,2]) ## 2-axis plot\n",
        "plt.show()"
      ],
      "metadata": {
        "id": "b4HkF7qfjm_o",
        "outputId": "9490eaea-b533-4bca-c604-2a38c6e16a30",
        "colab": {
          "base_uri": "https://localhost:8080/",
          "height": 431
        }
      },
      "execution_count": 122,
      "outputs": [
        {
          "output_type": "display_data",
          "data": {
            "text/plain": [
              "<Figure size 640x480 with 1 Axes>"
            ],
            "image/png": "[encoded data removed]"
          },
          "metadata": {}
        }
      ]
    },
    {
      "cell_type": "markdown",
      "source": [
        "#   <font color='Red'> **Experiment 1** </font>\n",
        "\n",
        "### <font color='Red'>  Let's get acquainted with rotational motion. </font>"
      ],
      "metadata": {
        "id": "Pk9ELXX6UEN2"
      }
    },
    {
      "cell_type": "markdown",
      "source": [
        "#### <font color='Red'>  Lets define a time array to indicate all moment of time considered, i.e. as done in previous labs. And define an initial position, velocity, and particle mass. </font>"
      ],
      "metadata": {
        "id": "oVtXaZj0seMr"
      }
    },
    {
      "cell_type": "code",
      "source": [
        "dt = 0.1  ## s (detector time resolution, time-step)\n",
        "t0 = 0.0  ## s (initial experiment time)\n",
        "tf = 10.  ## s (final   experiment time)\n",
        "\n",
        "T  = arange(t0, tf, dt)\n",
        "\n",
        "x0 = array([0,0.,0.]) ## initial position\n",
        "v0 = array([0.,0,0.]) ## initial-velocity\n",
        "m    =  10.00   ## kg : mass of your particle\n",
        "g    = -9.81    ## m/s/s : surface-gravity"
      ],
      "metadata": {
        "id": "SQ5qMQiusn6r"
      },
      "execution_count": 123,
      "outputs": []
    },
    {
      "cell_type": "markdown",
      "source": [
        "#### <font color='Red'>  Let's begin with Lab 2's Velocity Verlet Method as implemented in $\\S$2.4.1 (free fall motion). Feel-free to copy-n-paste your result from there into the code-cell below, and plot your dynamics showing that your code-cell works. </font>"
      ],
      "metadata": {
        "id": "8piaQsEf_YXR"
      }
    },
    {
      "cell_type": "code",
      "source": [
        "f_gravity      = zeros( (len(T), 3) ) ## initialize an empty (i.e. zero-filled) 'force-trajectory' array\n",
        "f_gravity[:,0] = m * g ## fill-in all entries of axis-0, i.e. the x-axis, for all, hence \":\" time-points\n",
        "\n",
        "x_t = zeros((len(T), 3)) ## initialize position-trajectory (position vectors for all times, i.e. len(T))\n",
        "v_t = zeros((len(T), 3)) ## initialize velocity-trajectory (velocity vectors for all times)\n",
        "a_t = zeros((len(T), 3)) ## initialize acceleration-trajectory (acceleration vectors for all times)\n",
        "\n",
        "x_t[0] = x0 ## initialize the 0th position-trajectory entry to the initial-position\n",
        "v_t[0] = v0 ## initialize the 0th velocity-trajectory entry to the initial-velocity\n",
        "a_t[0] = f_gravity[0] / m ## initialize the 0th acceleration-trajectory entry according to Newton's 2nd Law\n",
        "for t in range(1, len(T)): ## iteratively run algorithm for all entries (for all time, excluding time 0)\n",
        "  x_t[t] = x_t[t-1] + v_t[t-1] * dt + 0.5 * a_t[t-1] * dt*dt ## Velocity-Verlet Step 1 : find new position from old data\n",
        "  a_t[t] = f_gravity[t-1] / m ## determine the t-th acceleration entry according to Newton's 2nd Law of the t-th force/mass\n",
        "  v_t[t] = v_t[t-1] + 0.5 * ( a_t[t-1] + a_t[t] ) * dt ## Velocity-Verlet Step 3 : find new velociy from old data & new accleration\n",
        "\n",
        "dRdt_tx = d(x_t)/dt ## take numerical-time-derivative of the aforementioned position-trajectory\n",
        "dVdt_tx = d(v_t)/dt ## take numerical-time-derivative of the aforementioned velocity-trajectory\n",
        "\n",
        "fig, (ax1, ax2, ax3) = plt.subplots(1, 3)\n",
        "fig.suptitle('Experiment I')\n",
        "fig.subplots_adjust(hspace=0.01, wspace=0.25, right=2)\n",
        "\n",
        "ax1.scatter(T, x_t[:,0])\n",
        "ax1.set_title(\"Position\")\n",
        "ax1.set(xlabel='time (s)', ylabel='Position (m)')\n",
        "\n",
        "ax2.scatter(T, v_t[:,0])\n",
        "ax2.set_title(\"Velocity\")\n",
        "ax2.set(xlabel='time (s)', ylabel='Velocity (m/s)')\n",
        "\n",
        "ax3.scatter(T, a_t[:,0], label=\"Acceleration\")\n",
        "ax3.scatter(T, f_gravity[:,0]/m, s=0.5, label=\"Force/Mass\")\n",
        "ax3.legend(loc=\"upper right\")\n",
        "ax3.set_title(\"Acceleration\")\n",
        "ax3.set(xlabel='time (s)', ylabel='Acceleration (m/s/s)')\n",
        "\n",
        "fig.show()"
      ],
      "metadata": {
        "id": "Lq-KobdN_9xj",
        "outputId": "647e98f7-c870-49e8-a2aa-e63de4d03f8d",
        "colab": {
          "base_uri": "https://localhost:8080/",
          "height": 497
        }
      },
      "execution_count": 124,
      "outputs": [
        {
          "output_type": "display_data",
          "data": {
            "text/plain": [
              "<Figure size 640x480 with 3 Axes>"
            ],
            "image/png": "[encoded data removed]"
          },
          "metadata": {}
        }
      ]
    },
    {
      "cell_type": "markdown",
      "source": [
        "### <font color='Red'>  Next copy-n-paste the earlier VelocityVerlet algorthim but with a modification: </font>\n",
        "```\n",
        "a_t[t] = -np.dot( v_t[t], v_t[t]) / (np.linalg.norm(x_t[t])**2) * ( x_t[t] - np.zeros(3) )\n",
        "```\n",
        "### <font color='Red'> use this to our equations-of-motion, and obtain a trajectory and accelerations.</font>\n",
        "\n",
        "### <font color='Red'> I.e. implement Velocity Verlet with the Centripetal acceleration. </font>"
      ],
      "metadata": {
        "id": "EAPsr0PQsH1D"
      }
    },
    {
      "cell_type": "code",
      "source": [],
      "metadata": {
        "id": "4dZjmlUmsaag"
      },
      "execution_count": 124,
      "outputs": []
    },
    {
      "cell_type": "markdown",
      "source": [
        "####   <font color='Red'> Plot x(t), y(t), z(t) trajectories (in time) on 1 graph, be sure in include caption. Then Plot v_x(t), v_y(t), v_z(t) velocities (in time) on 1 graph, in conclusion explain this graph </font>"
      ],
      "metadata": {
        "id": "-VD4zN8OWfze"
      }
    },
    {
      "cell_type": "code",
      "source": [],
      "metadata": {
        "id": "uqKASgFqVxfc"
      },
      "execution_count": 124,
      "outputs": []
    },
    {
      "cell_type": "markdown",
      "source": [],
      "metadata": {
        "id": "Mg8sOIRoBAEd"
      }
    },
    {
      "cell_type": "markdown",
      "source": [
        "###   <font color='Red'> Plot a parametric plot with x and y </font>"
      ],
      "metadata": {
        "id": "Gi5OnGDuWys_"
      }
    },
    {
      "cell_type": "code",
      "source": [],
      "metadata": {
        "id": "rhJ3jbowV8Dy"
      },
      "execution_count": 124,
      "outputs": []
    },
    {
      "cell_type": "markdown",
      "source": [],
      "metadata": {
        "id": "Wrz3yhr1BBX4"
      }
    },
    {
      "cell_type": "markdown",
      "source": [
        "#   <font color='Red'> **Experiment 2**  </font>\n",
        "\n",
        "### <font color='Red'>  Let's now implment the  *for-loop over object configurations*; by **varying the velocity**, keeping the objects mass and radius fixed. You may use the VelocityVerletRot method defined above. </font>\n",
        "\n"
      ],
      "metadata": {
        "id": "k4jeA9q2UfH1"
      }
    },
    {
      "cell_type": "markdown",
      "source": [
        "#### <font color='Red'> Specify a range of speeds, you'd like to test. And an empty array of what you'd like to measure, i.e. the force (of the same length of the array of speeds). </font>"
      ],
      "metadata": {
        "id": "GD1Pxyq6ZK8F"
      }
    },
    {
      "cell_type": "code",
      "source": [],
      "metadata": {
        "id": "6rcp2sxIZYKI"
      },
      "execution_count": 124,
      "outputs": []
    },
    {
      "cell_type": "markdown",
      "source": [
        "#### <font color='Red'> Setup a time-array like before to test the dynamics.  </font>"
      ],
      "metadata": {
        "id": "-pIVk4UIaOwx"
      }
    },
    {
      "cell_type": "code",
      "source": [],
      "metadata": {
        "id": "EOM_-tguaPDT"
      },
      "execution_count": 124,
      "outputs": []
    },
    {
      "cell_type": "markdown",
      "source": [
        "#### <font color='Red'> Let's run the for-loop, over the velocities we wish to experiment over. </font>"
      ],
      "metadata": {
        "id": "J0L8orcyZYeV"
      }
    },
    {
      "cell_type": "code",
      "source": [],
      "metadata": {
        "id": "3dywnlORRHMv"
      },
      "execution_count": 124,
      "outputs": []
    },
    {
      "cell_type": "markdown",
      "source": [
        "#### <font color='Red'> Plot your data: F vs. v </font>"
      ],
      "metadata": {
        "id": "2P09jGnKbYXa"
      }
    },
    {
      "cell_type": "code",
      "source": [],
      "metadata": {
        "id": "KK2hKycVaonS"
      },
      "execution_count": 124,
      "outputs": []
    },
    {
      "cell_type": "markdown",
      "source": [],
      "metadata": {
        "id": "re9lTpjgEySE"
      }
    },
    {
      "cell_type": "markdown",
      "source": [
        "#### <font color='Red'> Solve Least-Squares Linear fit to the Data, i.e. obtain a linear form of your data (e.g. f ~ x). Get linear coefficients y = m * x + c, i.e. get m and c (with y = f, and x = v$^2$). And print the values of m and c with units. </font>"
      ],
      "metadata": {
        "id": "BUbC-8TzrCSC"
      }
    },
    {
      "cell_type": "code",
      "source": [],
      "metadata": {
        "id": "P36q3OaMrDiz"
      },
      "execution_count": 124,
      "outputs": []
    },
    {
      "cell_type": "markdown",
      "source": [
        "### <font color='Red'> Get the theoritical slope ratio, e.g. m/R, and print it with units how does it compare with your linear fit? </font>"
      ],
      "metadata": {
        "id": "mSDdnRTrrQ7G"
      }
    },
    {
      "cell_type": "code",
      "source": [],
      "metadata": {
        "id": "4wejb6kIrT9e"
      },
      "execution_count": 124,
      "outputs": []
    },
    {
      "cell_type": "markdown",
      "source": [
        "#### <font color='Red'> Let's plot this linear function (in F vs. v^2): data, simulation-fit, and theory-fit </font>"
      ],
      "metadata": {
        "id": "Fd1eJkGTqkWr"
      }
    },
    {
      "cell_type": "code",
      "source": [],
      "metadata": {
        "id": "mWPwMDOEqzfv"
      },
      "execution_count": 124,
      "outputs": []
    },
    {
      "cell_type": "markdown",
      "source": [],
      "metadata": {
        "id": "V_bCVgEg8imm"
      }
    },
    {
      "cell_type": "markdown",
      "source": [
        "#   <font color='Red'> **Experiment 3** </font>\n",
        "\n",
        "### <font color='Red'>  Let's now implment the *for-loop over object configurations*, but thiis time by **varying the Radius** of rotation, keeping the objects mass and velocity fixed. </font>"
      ],
      "metadata": {
        "id": "wYk7vr6uUt4t"
      }
    },
    {
      "cell_type": "code",
      "source": [],
      "metadata": {
        "id": "Xe7r9-MLPnxl"
      },
      "execution_count": 124,
      "outputs": []
    },
    {
      "cell_type": "markdown",
      "source": [
        "### <font color='Red'> Define the time array, indicating all moments of time considered </font>"
      ],
      "metadata": {
        "id": "UzmiqNTTpLms"
      }
    },
    {
      "cell_type": "code",
      "source": [],
      "metadata": {
        "id": "n0tRfvadcYJH"
      },
      "execution_count": 124,
      "outputs": []
    },
    {
      "cell_type": "markdown",
      "source": [
        "### <font color='Red'> For-loop over Radii considered </font>"
      ],
      "metadata": {
        "id": "bne4xgM6pXLU"
      }
    },
    {
      "cell_type": "code",
      "source": [],
      "metadata": {
        "id": "MZhpx73Acc10"
      },
      "execution_count": 124,
      "outputs": []
    },
    {
      "cell_type": "markdown",
      "source": [
        "### <font color='Red'> Plot the Radii vs. Force graph </font>"
      ],
      "metadata": {
        "id": "LOVeZdtNpf9X"
      }
    },
    {
      "cell_type": "code",
      "source": [],
      "metadata": {
        "id": "fWOEbONtc6zz"
      },
      "execution_count": 124,
      "outputs": []
    },
    {
      "cell_type": "markdown",
      "source": [],
      "metadata": {
        "id": "-srUTF8hBo6t"
      }
    },
    {
      "cell_type": "markdown",
      "source": [
        "### <font color='Red'> Solve Least-Squares Linear fit to the Data, i.e. obtain a linear form of your data (e.g. f(R) ~ x). Get linear coefficients y = m * x + c, i.e. get m and c (with y = f, and x = 1/R). And print the values of m and c with units. </font>"
      ],
      "metadata": {
        "id": "e9poKN70pnnZ"
      }
    },
    {
      "cell_type": "code",
      "source": [],
      "metadata": {
        "id": "GcaLN46xdD39"
      },
      "execution_count": 124,
      "outputs": []
    },
    {
      "cell_type": "markdown",
      "source": [
        "### <font color='Red'> Get the theoritical slope ratio, e.g. m v^2, and print it with units how does it compare with your linear fit? </font>"
      ],
      "metadata": {
        "id": "eOaSFAq-qJfE"
      }
    },
    {
      "cell_type": "code",
      "source": [],
      "metadata": {
        "id": "NX6VQ2Bvef4F"
      },
      "execution_count": 124,
      "outputs": []
    },
    {
      "cell_type": "markdown",
      "source": [
        "#   <font color='Red'> **Conclusion** </font>\n",
        "\n",
        "### <font color='Red'> Explain all graphs, and relevant physics invovled in the simulations. Explain the need for a good integration time step $\\Delta$t. </font>"
      ],
      "metadata": {
        "id": "z_yz6tYtUwO_"
      }
    },
    {
      "cell_type": "markdown",
      "source": [
        "Write your Conclusion here"
      ],
      "metadata": {
        "id": "r5QcxHQvfy0Y"
      }
    },
    {
      "cell_type": "markdown",
      "source": [
        "### <font color='Red'> Why is it called Uniform Circular Motion if there is acceleration? </font>"
      ],
      "metadata": {
        "id": "lEY0XdFaBSsQ"
      }
    },
    {
      "cell_type": "markdown",
      "source": [],
      "metadata": {
        "id": "81lGbz7wBS_m"
      }
    },
    {
      "cell_type": "markdown",
      "source": [
        "### <font color='Red'> In Circular Motion, where is the Acceleration and Velocity vector pointing at any given time? </font>"
      ],
      "metadata": {
        "id": "EgYM6D8sBTFs"
      }
    },
    {
      "cell_type": "markdown",
      "source": [],
      "metadata": {
        "id": "fCu_YPfPBTMN"
      }
    }
  ]
}